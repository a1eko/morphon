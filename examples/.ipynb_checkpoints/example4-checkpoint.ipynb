{
 "cells": [
  {
   "cell_type": "markdown",
   "metadata": {},
   "source": [
    "# Scholl analysis"
   ]
  },
  {
   "cell_type": "code",
   "execution_count": 21,
   "metadata": {
    "collapsed": true
   },
   "outputs": [],
   "source": [
    "%matplotlib inline\n",
    "from morphon import Morpho\n",
    "import matplotlib.pyplot as plt\n",
    "import numpy as np"
   ]
  },
  {
   "cell_type": "markdown",
   "metadata": {},
   "source": [
    "Function `crossings` computes the number of intersections with Scholl spheres for a given segment."
   ]
  },
  {
   "cell_type": "code",
   "execution_count": 22,
   "metadata": {
    "collapsed": true
   },
   "outputs": [],
   "source": [
    "def crossings(m, i, h):\n",
    "    p = m.parent(i)\n",
    "    r1 = m.distance(p, radial=True)\n",
    "    r2 = m.distance(i, radial=True)\n",
    "    k0 = int(r1/h)\n",
    "    kn = int(r2/h)\n",
    "    return kn-k0, k0"
   ]
  },
  {
   "cell_type": "markdown",
   "metadata": {},
   "source": [
    "Function `scholl` returns the lists of radial distances and corresponding numbers of crossings for a given neurite."
   ]
  },
  {
   "cell_type": "code",
   "execution_count": 23,
   "metadata": {
    "collapsed": true
   },
   "outputs": [],
   "source": [
    "def scholl(m, neurite, h):\n",
    "    nodes = filter(lambda i: m.neurite(i)==neurite, all_nodes)\n",
    "    rmax = max([m.distance(i, radial=True) for i in nodes])\n",
    "    radx = np.array([k*h for k in range(int(rmax/h))])\n",
    "    crox = np.zeros(int(rmax/h), dtype=int)\n",
    "    for i in nodes:\n",
    "        ncross, icross = crossings(m, i, h)\n",
    "        if ncross > 0:\n",
    "            for k in range(ncross):\n",
    "                crox[icross+k] += 1\n",
    "        elif ncross < 0:\n",
    "            for k in range(-ncross):\n",
    "                crox[icross-k] += 1\n",
    "    return radx, crox\n"
   ]
  },
  {
   "cell_type": "markdown",
   "metadata": {},
   "source": [
    "Load morphology and specify the list of neurites for Scholl analysis. Define the radial resolution `h`."
   ]
  },
  {
   "cell_type": "code",
   "execution_count": 24,
   "metadata": {
    "collapsed": true
   },
   "outputs": [],
   "source": [
    "m = Morpho('in2.swc')\n",
    "all_nodes = [i for i in m.traverse()]\n",
    "neurites = set([m.neurite(i) for i in all_nodes])\n",
    "if 'soma' in neurites:\n",
    "    neurites.remove('soma')\n",
    "h = 10.0"
   ]
  },
  {
   "cell_type": "markdown",
   "metadata": {},
   "source": [
    "Compute and plot the Scholl diagrams."
   ]
  },
  {
   "cell_type": "code",
   "execution_count": 25,
   "metadata": {
    "collapsed": false
   },
   "outputs": [
    {
     "data": {
      "image/png": "[encoded data removed]",
      "text/plain": [
       "<matplotlib.figure.Figure at 0x7efca8b80c90>"
      ]
     },
     "metadata": {},
     "output_type": "display_data"
    }
   ],
   "source": [
    "for neurite in neurites:\n",
    "    r, x = scholl(m, neurite, h)\n",
    "    plt.plot(r, x, label=neurite, lw=2)\n",
    "\n",
    "plt.legend()\n",
    "plt.grid(True)"
   ]
  }
 ],
 "metadata": {
  "kernelspec": {
   "display_name": "Python 2",
   "language": "python",
   "name": "python2"
  },
  "language_info": {
   "codemirror_mode": {
    "name": "ipython",
    "version": 2
   },
   "file_extension": ".py",
   "mimetype": "text/x-python",
   "name": "python",
   "nbconvert_exporter": "python",
   "pygments_lexer": "ipython2",
   "version": "2.7.9"
  }
 },
 "nbformat": 4,
 "nbformat_minor": 0
}
